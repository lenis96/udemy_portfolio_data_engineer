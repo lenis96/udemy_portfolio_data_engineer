{
 "cells": [
  {
   "cell_type": "code",
   "execution_count": 1,
   "metadata": {},
   "outputs": [],
   "source": [
    "import pandas as pd\n",
    "import time\n",
    "import requests\n",
    "from bs4 import BeautifulSoup\n",
    "import json\n",
    "import random\n",
    "import datetime\n",
    "import os\n",
    "import numpy as np\n",
    "from millify import millify, prettify\n",
    "from tqdm import tqdm\n",
    "\n",
    "import cred_template\n"
   ]
  },
  {
   "cell_type": "code",
   "execution_count": 3,
   "metadata": {},
   "outputs": [],
   "source": [
    "url = \"https://www.youtube.com/channel/UCLXRGxAzeaLDGaOphqapzmg\""
   ]
  },
  {
   "cell_type": "code",
   "execution_count": null,
   "metadata": {},
   "outputs": [],
   "source": [
    "DEVELOPER_KEY = cred_template.API_KEY"
   ]
  },
  {
   "cell_type": "code",
   "execution_count": 7,
   "metadata": {},
   "outputs": [],
   "source": [
    "CHANNEL_ID = 'UCLXRGxAzeaLDGaOphqapzmg'\n",
    "\n",
    "url_channel_stats = 'https://youtube.googleapis.com/youtube/v3/channels?part=statistics&id=' + CHANNEL_ID + '&key=' + DEVELOPER_KEY\n",
    "channel_stats = requests.get(url_channel_stats)\n",
    "channel_stats.status_code\n",
    "channel_stats = channel_stats.json()\n"
   ]
  },
  {
   "cell_type": "code",
   "execution_count": 8,
   "metadata": {},
   "outputs": [
    {
     "data": {
      "text/plain": [
       "{'kind': 'youtube#channelListResponse',\n",
       " 'etag': 'Of1Zfo0BIX2tZplmw1YCsUNtcq0',\n",
       " 'pageInfo': {'totalResults': 1, 'resultsPerPage': 5},\n",
       " 'items': [{'kind': 'youtube#channel',\n",
       "   'etag': 'eNllQhr1s3Dbufg6GhSFq8TcRfs',\n",
       "   'id': 'UCLXRGxAzeaLDGaOphqapzmg',\n",
       "   'statistics': {'viewCount': '97965852',\n",
       "    'subscriberCount': '720000',\n",
       "    'hiddenSubscriberCount': False,\n",
       "    'videoCount': '3233'}}]}"
      ]
     },
     "execution_count": 8,
     "metadata": {},
     "output_type": "execute_result"
    }
   ],
   "source": [
    "channel_stats"
   ]
  },
  {
   "cell_type": "code",
   "execution_count": 9,
   "metadata": {},
   "outputs": [
    {
     "data": {
      "text/plain": [
       "{'created_at': '2024-01-05',\n",
       " 'total_views': 97965852,\n",
       " 'subscribers': 720000,\n",
       " 'video_count': 3233}"
      ]
     },
     "execution_count": 9,
     "metadata": {},
     "output_type": "execute_result"
    }
   ],
   "source": [
    "channel_stats = channel_stats['items'][0]['statistics']\n",
    "date = pd.to_datetime('today').strftime('%Y-%m-%d')\n",
    "\n",
    "data_channel = {\n",
    "    'created_at': date,\n",
    "    'total_views': int(float(channel_stats['viewCount'])),\n",
    "    'subscribers': int(float(channel_stats['subscriberCount'])),\n",
    "    'video_count': int(float(channel_stats['videoCount']))\n",
    "}\n",
    "\n",
    "data_channel"
   ]
  },
  {
   "cell_type": "markdown",
   "metadata": {},
   "source": [
    "# Functions"
   ]
  },
  {
   "cell_type": "code",
   "execution_count": 10,
   "metadata": {},
   "outputs": [],
   "source": [
    "def get_stats(api_key,channel_id):\n",
    "    url_channel_stats = 'https://youtube.googleapis.com/youtube/v3/channels?part=statistics&id=' + channel_id + '&key=' + api_key\n",
    "    channel_stats = requests.get(url_channel_stats)\n",
    "    channel_stats.status_code\n",
    "    channel_stats = channel_stats.json()\n",
    "\n",
    "    channel_stats = channel_stats['items'][0]['statistics']\n",
    "    date = pd.to_datetime('today').strftime('%Y-%m-%d')\n",
    "\n",
    "    data_channel = {\n",
    "        'created_at': date,\n",
    "        'total_views': int(float(channel_stats['viewCount'])),\n",
    "        'subscribers': int(float(channel_stats['subscriberCount'])),\n",
    "        'video_count': int(float(channel_stats['videoCount']))\n",
    "    }\n",
    "    \n",
    "    return data_channel\n"
   ]
  },
  {
   "cell_type": "code",
   "execution_count": 13,
   "metadata": {},
   "outputs": [
    {
     "data": {
      "text/html": [
       "<div>\n",
       "<style scoped>\n",
       "    .dataframe tbody tr th:only-of-type {\n",
       "        vertical-align: middle;\n",
       "    }\n",
       "\n",
       "    .dataframe tbody tr th {\n",
       "        vertical-align: top;\n",
       "    }\n",
       "\n",
       "    .dataframe thead th {\n",
       "        text-align: right;\n",
       "    }\n",
       "</style>\n",
       "<table border=\"1\" class=\"dataframe\">\n",
       "  <thead>\n",
       "    <tr style=\"text-align: right;\">\n",
       "      <th></th>\n",
       "      <th>channel_name</th>\n",
       "      <th>channel_id</th>\n",
       "    </tr>\n",
       "  </thead>\n",
       "  <tbody>\n",
       "    <tr>\n",
       "      <th>0</th>\n",
       "      <td>Codigo Facilito</td>\n",
       "      <td>UCLXRGxAzeaLDGaOphqapzmg</td>\n",
       "    </tr>\n",
       "    <tr>\n",
       "      <th>1</th>\n",
       "      <td>Pelado Nerd</td>\n",
       "      <td>UCrBzBOMcUVV8ryyAU_c6P5g</td>\n",
       "    </tr>\n",
       "    <tr>\n",
       "      <th>2</th>\n",
       "      <td>Midulive</td>\n",
       "      <td>UC3aj05GEEyzdOqYM5FLSFeg</td>\n",
       "    </tr>\n",
       "    <tr>\n",
       "      <th>3</th>\n",
       "      <td>FaztWeb</td>\n",
       "      <td>UCX9NJ471o7Wie1DQe94RVIg</td>\n",
       "    </tr>\n",
       "  </tbody>\n",
       "</table>\n",
       "</div>"
      ],
      "text/plain": [
       "      channel_name                channel_id\n",
       "0  Codigo Facilito  UCLXRGxAzeaLDGaOphqapzmg\n",
       "1      Pelado Nerd  UCrBzBOMcUVV8ryyAU_c6P5g\n",
       "2         Midulive  UC3aj05GEEyzdOqYM5FLSFeg\n",
       "3          FaztWeb  UCX9NJ471o7Wie1DQe94RVIg"
      ]
     },
     "execution_count": 13,
     "metadata": {},
     "output_type": "execute_result"
    }
   ],
   "source": [
    "channels_name = ['Codigo Facilito','Pelado Nerd','Midulive','FaztWeb']\n",
    "channels_id = ['UCLXRGxAzeaLDGaOphqapzmg','UCrBzBOMcUVV8ryyAU_c6P5g','UC3aj05GEEyzdOqYM5FLSFeg','UCX9NJ471o7Wie1DQe94RVIg']\n",
    "\n",
    "channels = {\n",
    "    'channel_name':channels_name,\n",
    "    'channel_id': channels_id\n",
    "}\n",
    "df_channels =pd.DataFrame(channels)\n",
    "\n",
    "df_channels"
   ]
  },
  {
   "cell_type": "code",
   "execution_count": 12,
   "metadata": {},
   "outputs": [
    {
     "data": {
      "text/plain": [
       "{'created_at': '2024-01-05',\n",
       " 'total_views': 97965852,\n",
       " 'subscribers': 720000,\n",
       " 'video_count': 3233}"
      ]
     },
     "execution_count": 12,
     "metadata": {},
     "output_type": "execute_result"
    }
   ],
   "source": [
    "get_stats(DEVELOPER_KEY,df_channels['channel_id'][0])"
   ]
  },
  {
   "cell_type": "code",
   "execution_count": 17,
   "metadata": {},
   "outputs": [],
   "source": [
    "def get_channels_stats(df,api_key):\n",
    "    date = []\n",
    "    views = []\n",
    "    subscribe = []\n",
    "    video_count = []\n",
    "    channel_name = []\n",
    "\n",
    "    tiempo = [1,2.5,3,2]\n",
    "    for i in tqdm(range(len(df)),colour='green'):\n",
    "        stats_temp = get_stats(api_key,df['channel_id'][i])\n",
    "        \n",
    "        date.append(stats_temp['created_at'])\n",
    "        views.append(stats_temp['total_views'])\n",
    "        subscribe.append(stats_temp['subscribers'])\n",
    "        video_count.append(stats_temp['video_count'])\n",
    "        channel_name.append(df['channel_name'][i])\n",
    "\n",
    "        time.sleep(random.choice(tiempo))\n",
    "\n",
    "\n",
    "    data = {\n",
    "        'channel_name': channel_name,\n",
    "        'subscribers': subscribe,\n",
    "        'video_count': video_count,\n",
    "        'total_views': views,\n",
    "        'created_at': date\n",
    "    }\n",
    "    df_channels = pd.DataFrame(data)\n",
    "    return df_channels"
   ]
  },
  {
   "cell_type": "code",
   "execution_count": 18,
   "metadata": {},
   "outputs": [
    {
     "name": "stderr",
     "output_type": "stream",
     "text": [
      "100%|\u001b[32m██████████\u001b[0m| 4/4 [00:09<00:00,  2.33s/it]\n"
     ]
    },
    {
     "data": {
      "text/html": [
       "<div>\n",
       "<style scoped>\n",
       "    .dataframe tbody tr th:only-of-type {\n",
       "        vertical-align: middle;\n",
       "    }\n",
       "\n",
       "    .dataframe tbody tr th {\n",
       "        vertical-align: top;\n",
       "    }\n",
       "\n",
       "    .dataframe thead th {\n",
       "        text-align: right;\n",
       "    }\n",
       "</style>\n",
       "<table border=\"1\" class=\"dataframe\">\n",
       "  <thead>\n",
       "    <tr style=\"text-align: right;\">\n",
       "      <th></th>\n",
       "      <th>channel_name</th>\n",
       "      <th>subscribers</th>\n",
       "      <th>video_count</th>\n",
       "      <th>total_views</th>\n",
       "      <th>created_at</th>\n",
       "    </tr>\n",
       "  </thead>\n",
       "  <tbody>\n",
       "    <tr>\n",
       "      <th>0</th>\n",
       "      <td>Codigo Facilito</td>\n",
       "      <td>720000</td>\n",
       "      <td>3233</td>\n",
       "      <td>97965852</td>\n",
       "      <td>2024-01-05</td>\n",
       "    </tr>\n",
       "    <tr>\n",
       "      <th>1</th>\n",
       "      <td>Pelado Nerd</td>\n",
       "      <td>157000</td>\n",
       "      <td>352</td>\n",
       "      <td>10733671</td>\n",
       "      <td>2024-01-05</td>\n",
       "    </tr>\n",
       "    <tr>\n",
       "      <th>2</th>\n",
       "      <td>Midulive</td>\n",
       "      <td>187000</td>\n",
       "      <td>513</td>\n",
       "      <td>20977673</td>\n",
       "      <td>2024-01-05</td>\n",
       "    </tr>\n",
       "    <tr>\n",
       "      <th>3</th>\n",
       "      <td>FaztWeb</td>\n",
       "      <td>571000</td>\n",
       "      <td>436</td>\n",
       "      <td>54045137</td>\n",
       "      <td>2024-01-05</td>\n",
       "    </tr>\n",
       "  </tbody>\n",
       "</table>\n",
       "</div>"
      ],
      "text/plain": [
       "      channel_name  subscribers  video_count  total_views  created_at\n",
       "0  Codigo Facilito       720000         3233     97965852  2024-01-05\n",
       "1      Pelado Nerd       157000          352     10733671  2024-01-05\n",
       "2         Midulive       187000          513     20977673  2024-01-05\n",
       "3          FaztWeb       571000          436     54045137  2024-01-05"
      ]
     },
     "execution_count": 18,
     "metadata": {},
     "output_type": "execute_result"
    }
   ],
   "source": [
    "get_channels_stats(df_channels,DEVELOPER_KEY)"
   ]
  }
 ],
 "metadata": {
  "kernelspec": {
   "display_name": "venv",
   "language": "python",
   "name": "python3"
  },
  "language_info": {
   "codemirror_mode": {
    "name": "ipython",
    "version": 3
   },
   "file_extension": ".py",
   "mimetype": "text/x-python",
   "name": "python",
   "nbconvert_exporter": "python",
   "pygments_lexer": "ipython3",
   "version": "3.10.12"
  }
 },
 "nbformat": 4,
 "nbformat_minor": 2
}
